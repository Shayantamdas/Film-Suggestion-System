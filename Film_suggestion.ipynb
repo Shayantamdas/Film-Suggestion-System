{
  "nbformat": 4,
  "nbformat_minor": 0,
  "metadata": {
    "colab": {
      "name": "Film_suggestion.ipynb",
      "provenance": []
    },
    "kernelspec": {
      "name": "python3",
      "display_name": "Python 3"
    },
    "language_info": {
      "name": "python"
    }
  },
  "cells": [
    {
      "cell_type": "markdown",
      "source": [
        "##Load Packages and Functions\n"
      ],
      "metadata": {
        "id": "HFqCLi0IeAKf"
      }
    },
    {
      "cell_type": "code",
      "source": [
        "from google.colab import drive\n",
        "drive.mount('/content/drive')"
      ],
      "metadata": {
        "colab": {
          "base_uri": "https://localhost:8080/"
        },
        "id": "-91IQvvyfc59",
        "outputId": "c5aa9f23-9639-4557-e590-2bad991df6cc"
      },
      "execution_count": null,
      "outputs": [
        {
          "output_type": "stream",
          "name": "stdout",
          "text": [
            "Mounted at /content/drive\n"
          ]
        }
      ]
    },
    {
      "cell_type": "code",
      "source": [
        "INPUT_DIRECTORY = \"/content/drive/MyDrive/BDSN data/\" #for google mount\n",
        "# INPUT_DIRECTORY = \"./data/\" #for jupyter notebook"
      ],
      "metadata": {
        "id": "4qw9RgXUiDCu"
      },
      "execution_count": null,
      "outputs": []
    },
    {
      "cell_type": "code",
      "execution_count": null,
      "metadata": {
        "id": "IF0sAjEOdQ4g"
      },
      "outputs": [],
      "source": [
        "%%capture \n",
        "#prevent large printout with %%capture\n",
        "\n",
        "#Download Java\n",
        "!apt-get install openjdk-8-jdk-headless -qq > /dev/null\n",
        "\n",
        "#Install Apache Spark 3.2.1 with Hadoop 3.2, get zipped folder\n",
        "!wget -q https://dlcdn.apache.org/spark/spark-3.2.1/spark-3.2.1-bin-hadoop3.2.tgz\n",
        "\n",
        "#Unzip folder\n",
        "!tar xvf spark-3.2.1-bin-hadoop3.2.tgz\n",
        "\n",
        "#Install findspark, pyspark 3.2.1\n",
        "!pip install -q findspark\n",
        "!pip install pyspark==3.2.1\n",
        "\n",
        "#Set variables\n",
        "import os\n",
        "os.environ[\"JAVA_HOME\"] = \"/usr/lib/jvm/java-8-openjdk-amd64\"\n",
        "os.environ[\"SPARK_HOME\"] = \"spark-3.2.1-bin-hadoop3.2\""
      ]
    },
    {
      "cell_type": "code",
      "source": [
        "import matplotlib.pyplot as plt\n",
        "import numpy as np\n",
        "from pyspark import SparkContext\n",
        "from pyspark.sql import SparkSession\n",
        "import pyspark.sql.functions as F\n",
        "from pyspark.sql.types import TimestampType\n",
        "import textwrap"
      ],
      "metadata": {
        "id": "fzZw4ObtdsEk"
      },
      "execution_count": null,
      "outputs": []
    },
    {
      "cell_type": "code",
      "source": [
        "from pyspark.ml.evaluation import RegressionEvaluator\n",
        "from pyspark.ml.recommendation import ALS\n",
        "from pyspark.ml.tuning import CrossValidator\n",
        "from pyspark.ml.tuning import ParamGridBuilder"
      ],
      "metadata": {
        "id": "0Pk0wxVKxYF1"
      },
      "execution_count": null,
      "outputs": []
    },
    {
      "cell_type": "code",
      "source": [
        "def get_movie_title_from_id(movieId):\n",
        "  title =  movie_titles.loc[movie_titles[\"movieId\"]==movieId,\"title\"].item()\n",
        "  return title"
      ],
      "metadata": {
        "id": "BGyROETGxfS5"
      },
      "execution_count": null,
      "outputs": []
    },
    {
      "cell_type": "markdown",
      "source": [
        "##Import Data and Preprocessing\n"
      ],
      "metadata": {
        "id": "UMwUfjnPeT2Y"
      }
    },
    {
      "cell_type": "code",
      "source": [
        "#create SparkSession and SparkContext objects\n",
        "from pyspark import SparkContext\n",
        "from pyspark.sql import SparkSession\n",
        "\n",
        "sc = SparkContext.getOrCreate()\n",
        "spark = SparkSession.builder.getOrCreate()"
      ],
      "metadata": {
        "id": "0K0vrWBrd9Xt"
      },
      "execution_count": null,
      "outputs": []
    },
    {
      "cell_type": "code",
      "source": [
        "def get_user_recommended_movies(recs_df, userId):\n",
        "  try:\n",
        "    recommendations = recs_df[recs_df[\"userId\"] == userId][\"recommendations\"]\n",
        "    for movie in recommendations[0]:\n",
        "      print(f\"Movie: \\n{get_movie_title_from_id(movie[0])}\\nPredicted Rating: {movie[1]}\\n\")\n",
        "  except:\n",
        "    print(\"That userId does not exist in the dataset.  Try another.\")"
      ],
      "metadata": {
        "id": "Ji1iwJVBxljB"
      },
      "execution_count": null,
      "outputs": []
    },
    {
      "cell_type": "code",
      "source": [
        "#Import data\n",
        "file_path = INPUT_DIRECTORY + \"ratings.csv\"\n",
        "ratings = spark.read.csv(file_path, header=True, inferSchema=True)\n",
        "ratings.show(5)"
      ],
      "metadata": {
        "id": "XnqQdzmjedbs",
        "colab": {
          "base_uri": "https://localhost:8080/"
        },
        "outputId": "28e58a37-ef56-4c53-bb81-6ec368484523"
      },
      "execution_count": null,
      "outputs": [
        {
          "output_type": "stream",
          "name": "stdout",
          "text": [
            "+------+-------+------+---------+\n",
            "|userId|movieId|rating|timestamp|\n",
            "+------+-------+------+---------+\n",
            "|     1|      1|   4.0|964982703|\n",
            "|     1|      3|   4.0|964981247|\n",
            "|     1|      6|   4.0|964982224|\n",
            "|     1|     47|   5.0|964983815|\n",
            "|     1|     50|   5.0|964982931|\n",
            "+------+-------+------+---------+\n",
            "only showing top 5 rows\n",
            "\n"
          ]
        }
      ]
    },
    {
      "cell_type": "code",
      "source": [
        "num_ratings = ratings.count()\n",
        "num_users = ratings.select('userId').distinct().count()\n",
        "num_movies = ratings.select('movieId').distinct().count()\n",
        "\n",
        "print(f\"Number of ratings: {num_ratings}\")\n",
        "print(f\"Number of distinct users: {num_users}\")\n",
        "print(f\"Number of distinct movies: {num_movies}\")"
      ],
      "metadata": {
        "colab": {
          "base_uri": "https://localhost:8080/"
        },
        "id": "c4g-gE2_oROT",
        "outputId": "8f78f710-5df4-4218-d4f3-19266dad8e8b"
      },
      "execution_count": null,
      "outputs": [
        {
          "output_type": "stream",
          "name": "stdout",
          "text": [
            "Number of ratings: 100836\n",
            "Number of distinct users: 610\n",
            "Number of distinct movies: 9724\n"
          ]
        }
      ]
    },
    {
      "cell_type": "code",
      "source": [
        "#Import data\n",
        "file_path = INPUT_DIRECTORY + \"tags.csv\"\n",
        "tags = spark.read.csv(file_path, header=True, inferSchema=True)\n",
        "tags.show(5)"
      ],
      "metadata": {
        "colab": {
          "base_uri": "https://localhost:8080/"
        },
        "id": "hKOlcvjA7El9",
        "outputId": "33b4413a-22c6-42d6-ac5b-d4ecf206b3ed"
      },
      "execution_count": null,
      "outputs": [
        {
          "output_type": "stream",
          "name": "stdout",
          "text": [
            "+------+-------+---------------+----------+\n",
            "|userId|movieId|            tag| timestamp|\n",
            "+------+-------+---------------+----------+\n",
            "|     2|  60756|          funny|1445714994|\n",
            "|     2|  60756|Highly quotable|1445714996|\n",
            "|     2|  60756|   will ferrell|1445714992|\n",
            "|     2|  89774|   Boxing story|1445715207|\n",
            "|     2|  89774|            MMA|1445715200|\n",
            "+------+-------+---------------+----------+\n",
            "only showing top 5 rows\n",
            "\n"
          ]
        }
      ]
    },
    {
      "cell_type": "markdown",
      "source": [
        "##Preprocessing"
      ],
      "metadata": {
        "id": "QKtSK3kNo0zw"
      }
    },
    {
      "cell_type": "markdown",
      "source": [
        "###Check datatypes"
      ],
      "metadata": {
        "id": "oeFjqvkko5Qf"
      }
    },
    {
      "cell_type": "code",
      "source": [
        "ratings.printSchema()"
      ],
      "metadata": {
        "colab": {
          "base_uri": "https://localhost:8080/"
        },
        "id": "t55J_Rg8o_N_",
        "outputId": "110ceb89-b8ae-432d-d389-631e690aa2dc"
      },
      "execution_count": null,
      "outputs": [
        {
          "output_type": "stream",
          "name": "stdout",
          "text": [
            "root\n",
            " |-- userId: integer (nullable = true)\n",
            " |-- movieId: integer (nullable = true)\n",
            " |-- rating: double (nullable = true)\n",
            " |-- timestamp: integer (nullable = true)\n",
            "\n"
          ]
        }
      ]
    },
    {
      "cell_type": "code",
      "source": [
        "#Import movie titles\n",
        "file_path = INPUT_DIRECTORY + \"movies.csv\"\n",
        "titles = spark.read.csv(file_path, header=True, inferSchema=True)\n",
        "titles = titles.select(\"movieId\", \"title\") #remove genres\n",
        "titles.show(5, truncate=False)"
      ],
      "metadata": {
        "colab": {
          "base_uri": "https://localhost:8080/"
        },
        "id": "31VzUlvzpNdt",
        "outputId": "2dcd7902-bd7a-4353-8c3f-bd75f366dae5"
      },
      "execution_count": null,
      "outputs": [
        {
          "output_type": "stream",
          "name": "stdout",
          "text": [
            "+-------+----------------------------------+\n",
            "|movieId|title                             |\n",
            "+-------+----------------------------------+\n",
            "|1      |Toy Story (1995)                  |\n",
            "|2      |Jumanji (1995)                    |\n",
            "|3      |Grumpier Old Men (1995)           |\n",
            "|4      |Waiting to Exhale (1995)          |\n",
            "|5      |Father of the Bride Part II (1995)|\n",
            "+-------+----------------------------------+\n",
            "only showing top 5 rows\n",
            "\n"
          ]
        }
      ]
    },
    {
      "cell_type": "code",
      "source": [
        "import pandas as pd\n",
        "\n",
        "file_path = INPUT_DIRECTORY + \"movies.csv\"\n",
        "movie_titles = pd.read_csv(file_path)\n",
        "movie_titles.head()"
      ],
      "metadata": {
        "colab": {
          "base_uri": "https://localhost:8080/",
          "height": 206
        },
        "id": "Hgy3Su-N5wO7",
        "outputId": "73f9d89f-d3fe-4dda-b8fc-51f3fecf6dfb"
      },
      "execution_count": null,
      "outputs": [
        {
          "output_type": "execute_result",
          "data": {
            "text/html": [
              "\n",
              "  <div id=\"df-a2915bbe-4eec-474a-a6a3-513fcd03d374\">\n",
              "    <div class=\"colab-df-container\">\n",
              "      <div>\n",
              "<style scoped>\n",
              "    .dataframe tbody tr th:only-of-type {\n",
              "        vertical-align: middle;\n",
              "    }\n",
              "\n",
              "    .dataframe tbody tr th {\n",
              "        vertical-align: top;\n",
              "    }\n",
              "\n",
              "    .dataframe thead th {\n",
              "        text-align: right;\n",
              "    }\n",
              "</style>\n",
              "<table border=\"1\" class=\"dataframe\">\n",
              "  <thead>\n",
              "    <tr style=\"text-align: right;\">\n",
              "      <th></th>\n",
              "      <th>movieId</th>\n",
              "      <th>title</th>\n",
              "      <th>genres</th>\n",
              "    </tr>\n",
              "  </thead>\n",
              "  <tbody>\n",
              "    <tr>\n",
              "      <th>0</th>\n",
              "      <td>1</td>\n",
              "      <td>Toy Story (1995)</td>\n",
              "      <td>Adventure|Animation|Children|Comedy|Fantasy</td>\n",
              "    </tr>\n",
              "    <tr>\n",
              "      <th>1</th>\n",
              "      <td>2</td>\n",
              "      <td>Jumanji (1995)</td>\n",
              "      <td>Adventure|Children|Fantasy</td>\n",
              "    </tr>\n",
              "    <tr>\n",
              "      <th>2</th>\n",
              "      <td>3</td>\n",
              "      <td>Grumpier Old Men (1995)</td>\n",
              "      <td>Comedy|Romance</td>\n",
              "    </tr>\n",
              "    <tr>\n",
              "      <th>3</th>\n",
              "      <td>4</td>\n",
              "      <td>Waiting to Exhale (1995)</td>\n",
              "      <td>Comedy|Drama|Romance</td>\n",
              "    </tr>\n",
              "    <tr>\n",
              "      <th>4</th>\n",
              "      <td>5</td>\n",
              "      <td>Father of the Bride Part II (1995)</td>\n",
              "      <td>Comedy</td>\n",
              "    </tr>\n",
              "  </tbody>\n",
              "</table>\n",
              "</div>\n",
              "      <button class=\"colab-df-convert\" onclick=\"convertToInteractive('df-a2915bbe-4eec-474a-a6a3-513fcd03d374')\"\n",
              "              title=\"Convert this dataframe to an interactive table.\"\n",
              "              style=\"display:none;\">\n",
              "        \n",
              "  <svg xmlns=\"http://www.w3.org/2000/svg\" height=\"24px\"viewBox=\"0 0 24 24\"\n",
              "       width=\"24px\">\n",
              "    <path d=\"M0 0h24v24H0V0z\" fill=\"none\"/>\n",
              "    <path d=\"M18.56 5.44l.94 2.06.94-2.06 2.06-.94-2.06-.94-.94-2.06-.94 2.06-2.06.94zm-11 1L8.5 8.5l.94-2.06 2.06-.94-2.06-.94L8.5 2.5l-.94 2.06-2.06.94zm10 10l.94 2.06.94-2.06 2.06-.94-2.06-.94-.94-2.06-.94 2.06-2.06.94z\"/><path d=\"M17.41 7.96l-1.37-1.37c-.4-.4-.92-.59-1.43-.59-.52 0-1.04.2-1.43.59L10.3 9.45l-7.72 7.72c-.78.78-.78 2.05 0 2.83L4 21.41c.39.39.9.59 1.41.59.51 0 1.02-.2 1.41-.59l7.78-7.78 2.81-2.81c.8-.78.8-2.07 0-2.86zM5.41 20L4 18.59l7.72-7.72 1.47 1.35L5.41 20z\"/>\n",
              "  </svg>\n",
              "      </button>\n",
              "      \n",
              "  <style>\n",
              "    .colab-df-container {\n",
              "      display:flex;\n",
              "      flex-wrap:wrap;\n",
              "      gap: 12px;\n",
              "    }\n",
              "\n",
              "    .colab-df-convert {\n",
              "      background-color: #E8F0FE;\n",
              "      border: none;\n",
              "      border-radius: 50%;\n",
              "      cursor: pointer;\n",
              "      display: none;\n",
              "      fill: #1967D2;\n",
              "      height: 32px;\n",
              "      padding: 0 0 0 0;\n",
              "      width: 32px;\n",
              "    }\n",
              "\n",
              "    .colab-df-convert:hover {\n",
              "      background-color: #E2EBFA;\n",
              "      box-shadow: 0px 1px 2px rgba(60, 64, 67, 0.3), 0px 1px 3px 1px rgba(60, 64, 67, 0.15);\n",
              "      fill: #174EA6;\n",
              "    }\n",
              "\n",
              "    [theme=dark] .colab-df-convert {\n",
              "      background-color: #3B4455;\n",
              "      fill: #D2E3FC;\n",
              "    }\n",
              "\n",
              "    [theme=dark] .colab-df-convert:hover {\n",
              "      background-color: #434B5C;\n",
              "      box-shadow: 0px 1px 3px 1px rgba(0, 0, 0, 0.15);\n",
              "      filter: drop-shadow(0px 1px 2px rgba(0, 0, 0, 0.3));\n",
              "      fill: #FFFFFF;\n",
              "    }\n",
              "  </style>\n",
              "\n",
              "      <script>\n",
              "        const buttonEl =\n",
              "          document.querySelector('#df-a2915bbe-4eec-474a-a6a3-513fcd03d374 button.colab-df-convert');\n",
              "        buttonEl.style.display =\n",
              "          google.colab.kernel.accessAllowed ? 'block' : 'none';\n",
              "\n",
              "        async function convertToInteractive(key) {\n",
              "          const element = document.querySelector('#df-a2915bbe-4eec-474a-a6a3-513fcd03d374');\n",
              "          const dataTable =\n",
              "            await google.colab.kernel.invokeFunction('convertToInteractive',\n",
              "                                                     [key], {});\n",
              "          if (!dataTable) return;\n",
              "\n",
              "          const docLinkHtml = 'Like what you see? Visit the ' +\n",
              "            '<a target=\"_blank\" href=https://colab.research.google.com/notebooks/data_table.ipynb>data table notebook</a>'\n",
              "            + ' to learn more about interactive tables.';\n",
              "          element.innerHTML = '';\n",
              "          dataTable['output_type'] = 'display_data';\n",
              "          await google.colab.output.renderOutput(dataTable, element);\n",
              "          const docLink = document.createElement('div');\n",
              "          docLink.innerHTML = docLinkHtml;\n",
              "          element.appendChild(docLink);\n",
              "        }\n",
              "      </script>\n",
              "    </div>\n",
              "  </div>\n",
              "  "
            ],
            "text/plain": [
              "   movieId                               title  \\\n",
              "0        1                    Toy Story (1995)   \n",
              "1        2                      Jumanji (1995)   \n",
              "2        3             Grumpier Old Men (1995)   \n",
              "3        4            Waiting to Exhale (1995)   \n",
              "4        5  Father of the Bride Part II (1995)   \n",
              "\n",
              "                                        genres  \n",
              "0  Adventure|Animation|Children|Comedy|Fantasy  \n",
              "1                   Adventure|Children|Fantasy  \n",
              "2                               Comedy|Romance  \n",
              "3                         Comedy|Drama|Romance  \n",
              "4                                       Comedy  "
            ]
          },
          "metadata": {},
          "execution_count": 29
        }
      ]
    },
    {
      "cell_type": "code",
      "source": [
        "movie_ratings = ratings.join(titles, on=\"movieId\", how=\"left\")\n",
        "movie_ratings.show(5, truncate=False)"
      ],
      "metadata": {
        "colab": {
          "base_uri": "https://localhost:8080/"
        },
        "id": "cM7FTTE9pUTR",
        "outputId": "7dbeb09c-9237-4c91-9829-b08f554049af"
      },
      "execution_count": null,
      "outputs": [
        {
          "output_type": "stream",
          "name": "stdout",
          "text": [
            "+-------+------+------+---------+---------------------------+\n",
            "|movieId|userId|rating|timestamp|title                      |\n",
            "+-------+------+------+---------+---------------------------+\n",
            "|1      |1     |4.0   |964982703|Toy Story (1995)           |\n",
            "|3      |1     |4.0   |964981247|Grumpier Old Men (1995)    |\n",
            "|6      |1     |4.0   |964982224|Heat (1995)                |\n",
            "|47     |1     |5.0   |964983815|Seven (a.k.a. Se7en) (1995)|\n",
            "|50     |1     |5.0   |964982931|Usual Suspects, The (1995) |\n",
            "+-------+------+------+---------+---------------------------+\n",
            "only showing top 5 rows\n",
            "\n"
          ]
        }
      ]
    },
    {
      "cell_type": "code",
      "source": [
        "import pyspark.sql.functions as F\n",
        "from pyspark.sql.types import TimestampType\n",
        "\n",
        "movie_ratings = movie_ratings.withColumn(\"timestamp\", F.from_unixtime(\"timestamp\"))\n",
        "movie_ratings.show()"
      ],
      "metadata": {
        "colab": {
          "base_uri": "https://localhost:8080/"
        },
        "id": "mEul7g-upd-s",
        "outputId": "ab8e2e1e-1bc6-4fc7-c6fd-b09c7019c6c8"
      },
      "execution_count": null,
      "outputs": [
        {
          "output_type": "stream",
          "name": "stdout",
          "text": [
            "+-------+------+------+-------------------+--------------------+\n",
            "|movieId|userId|rating|          timestamp|               title|\n",
            "+-------+------+------+-------------------+--------------------+\n",
            "|      1|     1|   4.0|2000-07-30 18:45:03|    Toy Story (1995)|\n",
            "|      3|     1|   4.0|2000-07-30 18:20:47|Grumpier Old Men ...|\n",
            "|      6|     1|   4.0|2000-07-30 18:37:04|         Heat (1995)|\n",
            "|     47|     1|   5.0|2000-07-30 19:03:35|Seven (a.k.a. Se7...|\n",
            "|     50|     1|   5.0|2000-07-30 18:48:51|Usual Suspects, T...|\n",
            "|     70|     1|   3.0|2000-07-30 18:40:00|From Dusk Till Da...|\n",
            "|    101|     1|   5.0|2000-07-30 18:14:28|Bottle Rocket (1996)|\n",
            "|    110|     1|   4.0|2000-07-30 18:36:16|   Braveheart (1995)|\n",
            "|    151|     1|   5.0|2000-07-30 19:07:21|      Rob Roy (1995)|\n",
            "|    157|     1|   5.0|2000-07-30 19:08:20|Canadian Bacon (1...|\n",
            "|    163|     1|   5.0|2000-07-30 19:00:50|    Desperado (1995)|\n",
            "|    216|     1|   5.0|2000-07-30 18:20:08|Billy Madison (1995)|\n",
            "|    223|     1|   3.0|2000-07-30 18:16:25|       Clerks (1994)|\n",
            "|    231|     1|   5.0|2000-07-30 18:19:39|Dumb & Dumber (Du...|\n",
            "|    235|     1|   4.0|2000-07-30 18:15:08|      Ed Wood (1994)|\n",
            "|    260|     1|   5.0|2000-07-30 18:28:00|Star Wars: Episod...|\n",
            "|    296|     1|   3.0|2000-07-30 18:49:27| Pulp Fiction (1994)|\n",
            "|    316|     1|   3.0|2000-07-30 18:38:30|     Stargate (1994)|\n",
            "|    333|     1|   5.0|2000-07-30 18:19:39|    Tommy Boy (1995)|\n",
            "|    349|     1|   4.0|2000-07-30 18:42:43|Clear and Present...|\n",
            "+-------+------+------+-------------------+--------------------+\n",
            "only showing top 20 rows\n",
            "\n"
          ]
        }
      ]
    },
    {
      "cell_type": "code",
      "source": [
        "movie_ratings = movie_ratings.select(\"title\", \"movieId\", \"userId\", \"rating\", \"timestamp\")\n",
        "movie_ratings.show(5, truncate=False)"
      ],
      "metadata": {
        "colab": {
          "base_uri": "https://localhost:8080/"
        },
        "id": "fOPySu1JpmwC",
        "outputId": "11a32271-b188-42ef-9646-9fb9ff18cede"
      },
      "execution_count": null,
      "outputs": [
        {
          "output_type": "stream",
          "name": "stdout",
          "text": [
            "+---------------------------+-------+------+------+-------------------+\n",
            "|title                      |movieId|userId|rating|timestamp          |\n",
            "+---------------------------+-------+------+------+-------------------+\n",
            "|Toy Story (1995)           |1      |1     |4.0   |2000-07-30 18:45:03|\n",
            "|Grumpier Old Men (1995)    |3      |1     |4.0   |2000-07-30 18:20:47|\n",
            "|Heat (1995)                |6      |1     |4.0   |2000-07-30 18:37:04|\n",
            "|Seven (a.k.a. Se7en) (1995)|47     |1     |5.0   |2000-07-30 19:03:35|\n",
            "|Usual Suspects, The (1995) |50     |1     |5.0   |2000-07-30 18:48:51|\n",
            "+---------------------------+-------+------+------+-------------------+\n",
            "only showing top 5 rows\n",
            "\n"
          ]
        }
      ]
    },
    {
      "cell_type": "markdown",
      "source": [
        "##EDA"
      ],
      "metadata": {
        "id": "OfVkpqMKthFI"
      }
    },
    {
      "cell_type": "markdown",
      "source": [
        "###Movie and User Summary Statistics"
      ],
      "metadata": {
        "id": "9ZTMaaf-tvho"
      }
    },
    {
      "cell_type": "code",
      "source": [
        "movie_ratings.select(\"title\", \"movieId\").groupBy(\"title\").count().orderBy(\"count\", ascending=False).show(20, truncate=False)"
      ],
      "metadata": {
        "colab": {
          "base_uri": "https://localhost:8080/"
        },
        "id": "S8phJWootrxP",
        "outputId": "ba13a5ba-508f-4ed1-abbe-fe02cd2c313b"
      },
      "execution_count": null,
      "outputs": [
        {
          "output_type": "stream",
          "name": "stdout",
          "text": [
            "+------------------------------------------------------------------------------+-----+\n",
            "|title                                                                         |count|\n",
            "+------------------------------------------------------------------------------+-----+\n",
            "|Forrest Gump (1994)                                                           |329  |\n",
            "|Shawshank Redemption, The (1994)                                              |317  |\n",
            "|Pulp Fiction (1994)                                                           |307  |\n",
            "|Silence of the Lambs, The (1991)                                              |279  |\n",
            "|Matrix, The (1999)                                                            |278  |\n",
            "|Star Wars: Episode IV - A New Hope (1977)                                     |251  |\n",
            "|Jurassic Park (1993)                                                          |238  |\n",
            "|Braveheart (1995)                                                             |237  |\n",
            "|Terminator 2: Judgment Day (1991)                                             |224  |\n",
            "|Schindler's List (1993)                                                       |220  |\n",
            "|Fight Club (1999)                                                             |218  |\n",
            "|Toy Story (1995)                                                              |215  |\n",
            "|Star Wars: Episode V - The Empire Strikes Back (1980)                         |211  |\n",
            "|American Beauty (1999)                                                        |204  |\n",
            "|Usual Suspects, The (1995)                                                    |204  |\n",
            "|Seven (a.k.a. Se7en) (1995)                                                   |203  |\n",
            "|Independence Day (a.k.a. ID4) (1996)                                          |202  |\n",
            "|Apollo 13 (1995)                                                              |201  |\n",
            "|Raiders of the Lost Ark (Indiana Jones and the Raiders of the Lost Ark) (1981)|200  |\n",
            "|Lord of the Rings: The Fellowship of the Ring, The (2001)                     |198  |\n",
            "+------------------------------------------------------------------------------+-----+\n",
            "only showing top 20 rows\n",
            "\n"
          ]
        }
      ]
    },
    {
      "cell_type": "markdown",
      "source": [
        "##ML Model"
      ],
      "metadata": {
        "id": "M7SjnT4vx-tZ"
      }
    },
    {
      "cell_type": "markdown",
      "source": [
        "We'll split our data 80/20% into training/testing sets and set seed to 1 for reproducibility:"
      ],
      "metadata": {
        "id": "elSQIZpXyLQG"
      }
    },
    {
      "cell_type": "code",
      "source": [
        "ratings = ratings.select(\"userId\", \"movieId\", \"rating\")\n",
        "(training_data, test_data) = ratings.randomSplit([.8, .2], seed=42)"
      ],
      "metadata": {
        "id": "SiNzLlCxyOHO"
      },
      "execution_count": null,
      "outputs": []
    },
    {
      "cell_type": "markdown",
      "source": [
        "Initialize our model. We'll set the following parameters before optimizing hyperparameters:\n",
        "\n",
        "nonnegative: True. We only want non-negative numbers, as a negative rating has no meaning in this context.\n",
        "coldStartStrategy: \"drop\". Helps avoid situations where all of a user's ratings are added to the training set only. This data will not be used when calculating RMSE, because predictions on these users would be meaningless because there is nothing to test.\n",
        "\n",
        "implicitPrefs: False. We have actual ratings, so we don't need to use implicit feedback."
      ],
      "metadata": {
        "id": "tX_7xVyqyijV"
      }
    },
    {
      "cell_type": "code",
      "source": [
        "from pyspark.ml.recommendation import ALS\n",
        "\n",
        "als = ALS(userCol=\"userId\", itemCol=\"movieId\", ratingCol=\"rating\", \n",
        "          nonnegative = True, coldStartStrategy = \"drop\", implicitPrefs = False)"
      ],
      "metadata": {
        "id": "W2_g1lbrykUO"
      },
      "execution_count": null,
      "outputs": []
    },
    {
      "cell_type": "markdown",
      "source": [
        "Now we'll build our ParamGridBuilder:"
      ],
      "metadata": {
        "id": "CvJBpoVPyysK"
      }
    },
    {
      "cell_type": "code",
      "source": [
        "from pyspark.ml.tuning import ParamGridBuilder\n",
        "\n",
        "param_grid = ParamGridBuilder() \\\n",
        "                  .addGrid(als.rank, [5, 20]) \\\n",
        "                  .addGrid(als.maxIter, [5]) \\\n",
        "                  .addGrid(als.regParam, [0.01, 0.05, 1]) \\\n",
        "                  .build()"
      ],
      "metadata": {
        "id": "1jf-wj9Ty08Z"
      },
      "execution_count": null,
      "outputs": []
    },
    {
      "cell_type": "code",
      "source": [
        "from pyspark.ml.evaluation import RegressionEvaluator\n",
        "\n",
        "evaluator = RegressionEvaluator(metricName=\"rmse\", labelCol=\"rating\", predictionCol=\"prediction\") \n",
        "print (\"Num models to be tested: \", len(param_grid))"
      ],
      "metadata": {
        "colab": {
          "base_uri": "https://localhost:8080/"
        },
        "id": "1ZgseALhy7J0",
        "outputId": "77472466-3280-4a2a-931b-04a40fa15209"
      },
      "execution_count": null,
      "outputs": [
        {
          "output_type": "stream",
          "name": "stdout",
          "text": [
            "Num models to be tested:  6\n"
          ]
        }
      ]
    },
    {
      "cell_type": "markdown",
      "source": [
        "Create CrossValidator"
      ],
      "metadata": {
        "id": "YxO8fMuiy_Ni"
      }
    },
    {
      "cell_type": "code",
      "source": [
        "from pyspark.ml.tuning import CrossValidator\n",
        "\n",
        "cv = CrossValidator(estimator = als, \n",
        "                    estimatorParamMaps= param_grid,\n",
        "                    evaluator = evaluator,\n",
        "                    numFolds = 5)"
      ],
      "metadata": {
        "id": "nSQ0loYEy-0_"
      },
      "execution_count": null,
      "outputs": []
    },
    {
      "cell_type": "markdown",
      "source": [
        "Fit Data:"
      ],
      "metadata": {
        "id": "JpDoxTiWzHtd"
      }
    },
    {
      "cell_type": "code",
      "source": [
        "model = cv.fit(training_data)\n",
        "\n",
        "best_model = model.bestModel"
      ],
      "metadata": {
        "id": "YM-0L-f0zHXU"
      },
      "execution_count": null,
      "outputs": []
    },
    {
      "cell_type": "markdown",
      "source": [
        "Get information on the best model:"
      ],
      "metadata": {
        "id": "PEa2fG9H4wiQ"
      }
    },
    {
      "cell_type": "code",
      "source": [
        "print(type(best_model))\n",
        "\n",
        "print(\"\\n**Best Model**\")\n",
        "print(\"  Rank:\", best_model.rank)\n",
        "print(\"  MaxIter:\", best_model._java_obj.parent().getMaxIter())\n",
        "print(\"  RegParam:\", best_model._java_obj.parent().getRegParam())"
      ],
      "metadata": {
        "colab": {
          "base_uri": "https://localhost:8080/"
        },
        "id": "JP9shKnIzQmj",
        "outputId": "fa343f3f-a79a-4b49-ffb8-15f37331a2ea"
      },
      "execution_count": null,
      "outputs": [
        {
          "output_type": "stream",
          "name": "stdout",
          "text": [
            "<class 'pyspark.ml.recommendation.ALSModel'>\n",
            "\n",
            "**Best Model**\n",
            "  Rank: 5\n",
            "  MaxIter: 5\n",
            "  RegParam: 0.05\n"
          ]
        }
      ]
    },
    {
      "cell_type": "markdown",
      "source": [
        "##Performance Evaluation"
      ],
      "metadata": {
        "id": "E3meRFp944E4"
      }
    },
    {
      "cell_type": "markdown",
      "source": [
        "Let's generate predictions on the test data:"
      ],
      "metadata": {
        "id": "lQdp7yGu49QD"
      }
    },
    {
      "cell_type": "code",
      "source": [
        "test_predictions = model.transform(test_data)\n",
        "test_predictions.show()"
      ],
      "metadata": {
        "colab": {
          "base_uri": "https://localhost:8080/"
        },
        "id": "EdNg19Tj46Hl",
        "outputId": "51fdfe18-4119-45bb-a3a0-5688372f184c"
      },
      "execution_count": null,
      "outputs": [
        {
          "output_type": "stream",
          "name": "stdout",
          "text": [
            "+------+-------+------+----------+\n",
            "|userId|movieId|rating|prediction|\n",
            "+------+-------+------+----------+\n",
            "|   463|   1088|   3.5| 3.6652236|\n",
            "|   580|   3175|   2.5| 3.6313622|\n",
            "|   580|  44022|   3.5|  3.263882|\n",
            "|   362|   1645|   5.0| 3.9244337|\n",
            "|   597|   1959|   4.0|  4.402317|\n",
            "|   155|   3175|   4.0| 3.5555627|\n",
            "|   368|   2122|   2.0|  2.490454|\n",
            "|   115|   1645|   4.0| 4.0562916|\n",
            "|   115|   3175|   4.0|  3.983466|\n",
            "|    28|   1645|   2.5|  3.039145|\n",
            "|    28|   3175|   1.5| 2.7867851|\n",
            "|   587|   1580|   4.0| 3.9089146|\n",
            "|   332|   1645|   3.5| 3.1693602|\n",
            "|   332|   2366|   3.5|  3.373988|\n",
            "|   577|   1580|   3.0| 3.0526443|\n",
            "|   577|   1959|   4.0|  3.248259|\n",
            "|   271|   6658|   2.0|  2.986471|\n",
            "|   606|   1088|   3.0| 3.4248211|\n",
            "|    91|   1580|   3.5| 3.6721838|\n",
            "|    91|   6620|   3.5|  2.965326|\n",
            "+------+-------+------+----------+\n",
            "only showing top 20 rows\n",
            "\n"
          ]
        }
      ]
    },
    {
      "cell_type": "code",
      "source": [
        "# Evaluate the \"test_predictions\" dataframe\n",
        "RMSE = evaluator.evaluate(test_predictions)\n",
        "\n",
        "# Print the RMSE\n",
        "print(RMSE)"
      ],
      "metadata": {
        "colab": {
          "base_uri": "https://localhost:8080/"
        },
        "id": "Pg9QHUCZ5FWV",
        "outputId": "823f83d2-90f0-4625-9a55-9f161e5bf0aa"
      },
      "execution_count": null,
      "outputs": [
        {
          "output_type": "stream",
          "name": "stdout",
          "text": [
            "0.9131980300124588\n"
          ]
        }
      ]
    },
    {
      "cell_type": "markdown",
      "source": [
        "##Generate Recommendations:"
      ],
      "metadata": {
        "id": "E6ftc38x5KjM"
      }
    },
    {
      "cell_type": "code",
      "source": [
        "# Generate top 10 movie recommendations for each user\n",
        "userRecs = best_model.recommendForAllUsers(10)\n",
        "userRecs.show(5, truncate=False)"
      ],
      "metadata": {
        "colab": {
          "base_uri": "https://localhost:8080/"
        },
        "id": "A8Xgywp95MyI",
        "outputId": "8740c3b1-b0fa-4c3e-d63e-5bee520f7498"
      },
      "execution_count": null,
      "outputs": [
        {
          "output_type": "stream",
          "name": "stderr",
          "text": [
            "/usr/local/lib/python3.7/dist-packages/pyspark/sql/context.py:127: FutureWarning: Deprecated in 3.0.0. Use SparkSession.builder.getOrCreate() instead.\n",
            "  FutureWarning\n"
          ]
        },
        {
          "output_type": "stream",
          "name": "stdout",
          "text": [
            "+------+-----------------------------------------------------------------------------------------------------------------------------------------------------------------------------------------------+\n",
            "|userId|recommendations                                                                                                                                                                                |\n",
            "+------+-----------------------------------------------------------------------------------------------------------------------------------------------------------------------------------------------+\n",
            "|1     |[{85, 6.697616}, {3379, 6.5410295}, {96004, 6.5410295}, {8235, 6.4249797}, {6201, 6.4249797}, {26326, 6.36415}, {6732, 6.338998}, {7579, 6.20956}, {3224, 6.1658792}, {3819, 6.092615}]        |\n",
            "|3     |[{3223, 5.5451603}, {7116, 5.474176}, {4082, 5.419378}, {2488, 5.2489834}, {5746, 5.2328577}, {6835, 5.2328577}, {5181, 5.170884}, {25825, 5.156314}, {25850, 5.115393}, {4518, 5.1024218}]    |\n",
            "|5     |[{136341, 6.88941}, {126921, 6.88941}, {147410, 6.88941}, {44851, 6.88941}, {109241, 6.88941}, {131610, 6.88941}, {53280, 6.88941}, {139640, 6.88941}, {118270, 6.88941}, {69211, 6.88941}]    |\n",
            "|6     |[{85, 7.354113}, {7116, 6.4737396}, {2488, 6.2204747}, {5075, 6.214044}, {25825, 6.2074485}, {3272, 6.0834584}, {2159, 6.0820265}, {6466, 6.0744934}, {2936, 6.0743017}, {232, 6.0696626}]     |\n",
            "|9     |[{99764, 6.678963}, {58301, 6.5959067}, {160565, 6.3654704}, {8477, 6.361621}, {3266, 6.180724}, {170355, 6.144073}, {8542, 6.087296}, {3846, 6.0164046}, {25771, 6.008662}, {89904, 6.005014}]|\n",
            "+------+-----------------------------------------------------------------------------------------------------------------------------------------------------------------------------------------------+\n",
            "only showing top 5 rows\n",
            "\n"
          ]
        }
      ]
    },
    {
      "cell_type": "code",
      "source": [
        "userRecs_pandas = userRecs.toPandas()\n",
        "userRecs_pandas.head()"
      ],
      "metadata": {
        "colab": {
          "base_uri": "https://localhost:8080/",
          "height": 206
        },
        "id": "tkhx7qYK5UpQ",
        "outputId": "cd217db4-d99b-4b51-9044-74c657ff7540"
      },
      "execution_count": null,
      "outputs": [
        {
          "output_type": "execute_result",
          "data": {
            "text/html": [
              "\n",
              "  <div id=\"df-c0bb7f1d-5a9d-4bdc-83cc-fbd4d48e211b\">\n",
              "    <div class=\"colab-df-container\">\n",
              "      <div>\n",
              "<style scoped>\n",
              "    .dataframe tbody tr th:only-of-type {\n",
              "        vertical-align: middle;\n",
              "    }\n",
              "\n",
              "    .dataframe tbody tr th {\n",
              "        vertical-align: top;\n",
              "    }\n",
              "\n",
              "    .dataframe thead th {\n",
              "        text-align: right;\n",
              "    }\n",
              "</style>\n",
              "<table border=\"1\" class=\"dataframe\">\n",
              "  <thead>\n",
              "    <tr style=\"text-align: right;\">\n",
              "      <th></th>\n",
              "      <th>userId</th>\n",
              "      <th>recommendations</th>\n",
              "    </tr>\n",
              "  </thead>\n",
              "  <tbody>\n",
              "    <tr>\n",
              "      <th>0</th>\n",
              "      <td>1</td>\n",
              "      <td>[(85, 6.697616100311279), (3379, 6.54102945327...</td>\n",
              "    </tr>\n",
              "    <tr>\n",
              "      <th>1</th>\n",
              "      <td>3</td>\n",
              "      <td>[(3223, 5.545160293579102), (7116, 5.474175930...</td>\n",
              "    </tr>\n",
              "    <tr>\n",
              "      <th>2</th>\n",
              "      <td>5</td>\n",
              "      <td>[(136341, 6.889410018920898), (126921, 6.88941...</td>\n",
              "    </tr>\n",
              "    <tr>\n",
              "      <th>3</th>\n",
              "      <td>6</td>\n",
              "      <td>[(85, 7.3541131019592285), (7116, 6.4737396240...</td>\n",
              "    </tr>\n",
              "    <tr>\n",
              "      <th>4</th>\n",
              "      <td>9</td>\n",
              "      <td>[(99764, 6.6789631843566895), (58301, 6.595906...</td>\n",
              "    </tr>\n",
              "  </tbody>\n",
              "</table>\n",
              "</div>\n",
              "      <button class=\"colab-df-convert\" onclick=\"convertToInteractive('df-c0bb7f1d-5a9d-4bdc-83cc-fbd4d48e211b')\"\n",
              "              title=\"Convert this dataframe to an interactive table.\"\n",
              "              style=\"display:none;\">\n",
              "        \n",
              "  <svg xmlns=\"http://www.w3.org/2000/svg\" height=\"24px\"viewBox=\"0 0 24 24\"\n",
              "       width=\"24px\">\n",
              "    <path d=\"M0 0h24v24H0V0z\" fill=\"none\"/>\n",
              "    <path d=\"M18.56 5.44l.94 2.06.94-2.06 2.06-.94-2.06-.94-.94-2.06-.94 2.06-2.06.94zm-11 1L8.5 8.5l.94-2.06 2.06-.94-2.06-.94L8.5 2.5l-.94 2.06-2.06.94zm10 10l.94 2.06.94-2.06 2.06-.94-2.06-.94-.94-2.06-.94 2.06-2.06.94z\"/><path d=\"M17.41 7.96l-1.37-1.37c-.4-.4-.92-.59-1.43-.59-.52 0-1.04.2-1.43.59L10.3 9.45l-7.72 7.72c-.78.78-.78 2.05 0 2.83L4 21.41c.39.39.9.59 1.41.59.51 0 1.02-.2 1.41-.59l7.78-7.78 2.81-2.81c.8-.78.8-2.07 0-2.86zM5.41 20L4 18.59l7.72-7.72 1.47 1.35L5.41 20z\"/>\n",
              "  </svg>\n",
              "      </button>\n",
              "      \n",
              "  <style>\n",
              "    .colab-df-container {\n",
              "      display:flex;\n",
              "      flex-wrap:wrap;\n",
              "      gap: 12px;\n",
              "    }\n",
              "\n",
              "    .colab-df-convert {\n",
              "      background-color: #E8F0FE;\n",
              "      border: none;\n",
              "      border-radius: 50%;\n",
              "      cursor: pointer;\n",
              "      display: none;\n",
              "      fill: #1967D2;\n",
              "      height: 32px;\n",
              "      padding: 0 0 0 0;\n",
              "      width: 32px;\n",
              "    }\n",
              "\n",
              "    .colab-df-convert:hover {\n",
              "      background-color: #E2EBFA;\n",
              "      box-shadow: 0px 1px 2px rgba(60, 64, 67, 0.3), 0px 1px 3px 1px rgba(60, 64, 67, 0.15);\n",
              "      fill: #174EA6;\n",
              "    }\n",
              "\n",
              "    [theme=dark] .colab-df-convert {\n",
              "      background-color: #3B4455;\n",
              "      fill: #D2E3FC;\n",
              "    }\n",
              "\n",
              "    [theme=dark] .colab-df-convert:hover {\n",
              "      background-color: #434B5C;\n",
              "      box-shadow: 0px 1px 3px 1px rgba(0, 0, 0, 0.15);\n",
              "      filter: drop-shadow(0px 1px 2px rgba(0, 0, 0, 0.3));\n",
              "      fill: #FFFFFF;\n",
              "    }\n",
              "  </style>\n",
              "\n",
              "      <script>\n",
              "        const buttonEl =\n",
              "          document.querySelector('#df-c0bb7f1d-5a9d-4bdc-83cc-fbd4d48e211b button.colab-df-convert');\n",
              "        buttonEl.style.display =\n",
              "          google.colab.kernel.accessAllowed ? 'block' : 'none';\n",
              "\n",
              "        async function convertToInteractive(key) {\n",
              "          const element = document.querySelector('#df-c0bb7f1d-5a9d-4bdc-83cc-fbd4d48e211b');\n",
              "          const dataTable =\n",
              "            await google.colab.kernel.invokeFunction('convertToInteractive',\n",
              "                                                     [key], {});\n",
              "          if (!dataTable) return;\n",
              "\n",
              "          const docLinkHtml = 'Like what you see? Visit the ' +\n",
              "            '<a target=\"_blank\" href=https://colab.research.google.com/notebooks/data_table.ipynb>data table notebook</a>'\n",
              "            + ' to learn more about interactive tables.';\n",
              "          element.innerHTML = '';\n",
              "          dataTable['output_type'] = 'display_data';\n",
              "          await google.colab.output.renderOutput(dataTable, element);\n",
              "          const docLink = document.createElement('div');\n",
              "          docLink.innerHTML = docLinkHtml;\n",
              "          element.appendChild(docLink);\n",
              "        }\n",
              "      </script>\n",
              "    </div>\n",
              "  </div>\n",
              "  "
            ],
            "text/plain": [
              "   userId                                    recommendations\n",
              "0       1  [(85, 6.697616100311279), (3379, 6.54102945327...\n",
              "1       3  [(3223, 5.545160293579102), (7116, 5.474175930...\n",
              "2       5  [(136341, 6.889410018920898), (126921, 6.88941...\n",
              "3       6  [(85, 7.3541131019592285), (7116, 6.4737396240...\n",
              "4       9  [(99764, 6.6789631843566895), (58301, 6.595906..."
            ]
          },
          "metadata": {},
          "execution_count": 27
        }
      ]
    },
    {
      "cell_type": "code",
      "source": [
        "get_movie_title_from_id(10)"
      ],
      "metadata": {
        "colab": {
          "base_uri": "https://localhost:8080/",
          "height": 35
        },
        "id": "LUO5TubT5cBp",
        "outputId": "47c09743-490b-4e3d-b5f2-77a45d4bcbc9"
      },
      "execution_count": null,
      "outputs": [
        {
          "output_type": "execute_result",
          "data": {
            "application/vnd.google.colaboratory.intrinsic+json": {
              "type": "string"
            },
            "text/plain": [
              "'GoldenEye (1995)'"
            ]
          },
          "metadata": {},
          "execution_count": 30
        }
      ]
    },
    {
      "cell_type": "code",
      "source": [
        "get_user_recommended_movies(userRecs_pandas, 1)"
      ],
      "metadata": {
        "colab": {
          "base_uri": "https://localhost:8080/"
        },
        "id": "mmDB3NO051E4",
        "outputId": "f443c8c1-e5c0-4fe6-8dec-e0a97d28abb3"
      },
      "execution_count": null,
      "outputs": [
        {
          "output_type": "stream",
          "name": "stdout",
          "text": [
            "Movie: \n",
            "Angels and Insects (1995)\n",
            "Predicted Rating: 6.697616100311279\n",
            "\n",
            "Movie: \n",
            "On the Beach (1959)\n",
            "Predicted Rating: 6.541029453277588\n",
            "\n",
            "Movie: \n",
            "Dragon Ball Z: The History of Trunks (Doragon bôru Z: Zetsubô e no hankô!! Nokosareta chô senshi - Gohan to Torankusu) (1993)\n",
            "Predicted Rating: 6.541029453277588\n",
            "\n",
            "Movie: \n",
            "Safety Last! (1923)\n",
            "Predicted Rating: 6.4249796867370605\n",
            "\n",
            "Movie: \n",
            "Lady Jane (1986)\n",
            "Predicted Rating: 6.4249796867370605\n",
            "\n",
            "Movie: \n",
            "Holy Mountain, The (Montaña sagrada, La) (1973)\n",
            "Predicted Rating: 6.364150047302246\n",
            "\n",
            "Movie: \n",
            "Hello, Dolly! (1969)\n",
            "Predicted Rating: 6.338997840881348\n",
            "\n",
            "Movie: \n",
            "Pride and Prejudice (1940)\n",
            "Predicted Rating: 6.209559917449951\n",
            "\n",
            "Movie: \n",
            "Woman in the Dunes (Suna no onna) (1964)\n",
            "Predicted Rating: 6.165879249572754\n",
            "\n",
            "Movie: \n",
            "Tampopo (1985)\n",
            "Predicted Rating: 6.092615127563477\n",
            "\n"
          ]
        }
      ]
    }
  ]
}